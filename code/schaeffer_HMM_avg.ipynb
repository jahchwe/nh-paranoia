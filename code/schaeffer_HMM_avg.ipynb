{
 "cells": [
  {
   "cell_type": "markdown",
   "id": "8334cfa0-5446-4944-8ed9-605fe3383366",
   "metadata": {},
   "source": [
    "### The scope of this code is to run the HMM in the parcellation ROIs and *maybe* to then compare them to the topic model outputs?"
   ]
  },
  {
   "cell_type": "code",
   "execution_count": null,
   "id": "9f715f13-88df-4b60-b47c-4e4a2fdf7012",
   "metadata": {},
   "outputs": [],
   "source": []
  },
  {
   "cell_type": "code",
   "execution_count": 35,
   "id": "c8df7198-eba9-4905-a498-b2adcf12161b",
   "metadata": {},
   "outputs": [],
   "source": [
    "#### this was replaced by permuting the subjects that went into the train/test condition for the initial Event Seg\n",
    "#### The script for this is called HMM_avg_node_range.py and since it takes a long time HMM_avg_node_range_fillin.py is an alternative that can be used\n",
    "\n",
    "import warnings\n",
    "warnings.filterwarnings('ignore')\n",
    "import sys \n",
    "import os    \n",
    "import glob\n",
    "from functools import reduce\n",
    "import numpy as np\n",
    "from brainiak.eventseg.event import EventSegment\n",
    "import nibabel as nib\n",
    "from scipy.stats import zscore, norm, ttest_rel\n",
    "# from nilearn.masking import apply_mask\n",
    "# from nilearn.image import load_img\n",
    "# from nilearn.image import resample_to_img\n",
    "import pandas as pd"
   ]
  },
  {
   "cell_type": "code",
   "execution_count": 5,
   "id": "76ea6c60-6001-4919-8da7-09dfdd772689",
   "metadata": {},
   "outputs": [
    {
     "data": {
      "text/plain": [
       "0                  7Networks_LH_Vis_1\n",
       "1                  7Networks_LH_Vis_2\n",
       "2                  7Networks_LH_Vis_3\n",
       "3                  7Networks_LH_Vis_4\n",
       "4                  7Networks_LH_Vis_5\n",
       "                   ...               \n",
       "95    7Networks_RH_Default_PFCdPFCm_1\n",
       "96    7Networks_RH_Default_PFCdPFCm_2\n",
       "97    7Networks_RH_Default_PFCdPFCm_3\n",
       "98     7Networks_RH_Default_pCunPCC_1\n",
       "99     7Networks_RH_Default_pCunPCC_2\n",
       "Name: ROI Name, Length: 100, dtype: object"
      ]
     },
     "execution_count": 5,
     "metadata": {},
     "output_type": "execute_result"
    }
   ],
   "source": [
    "mask_dir = '/home/jovyan/paranoia_project/nh-paranoia/code/data/'\n",
    "\n",
    "label_node = pd.read_csv(mask_dir + '_masks/Schaefer2018_100Parcels_7Networks_order_FSLMNI152_1mm.Centroid_RAS.csv')\n",
    "label_node['ROI Name']\n"
   ]
  },
  {
   "cell_type": "code",
   "execution_count": 11,
   "id": "ea50cc4a-98d9-4647-b984-740e23066d63",
   "metadata": {},
   "outputs": [
    {
     "data": {
      "text/plain": [
       "'/home/jovyan/paranoia_project/nh-paranoia/code'"
      ]
     },
     "execution_count": 11,
     "metadata": {},
     "output_type": "execute_result"
    }
   ],
   "source": [
    "pwd"
   ]
  },
  {
   "cell_type": "code",
   "execution_count": 26,
   "id": "bee24328-4bf0-4dd1-a46e-6d36c2a530ff",
   "metadata": {},
   "outputs": [],
   "source": [
    "schaeffer_dir = '/home/jovyan/paranoia_project/schaeffer_dict_roi/'\n",
    "\n",
    "node = list(label_node['ROI Name'])[0]\n",
    "temp = np.load(schaeffer_dir + f'{node}_all_subs.npy',allow_pickle=True).item()\n",
    "node_loaded = np.array(list(temp.values()))\n",
    "n_subs, n_vox,n_ts = node_loaded.shape"
   ]
  },
  {
   "cell_type": "code",
   "execution_count": 28,
   "id": "9f0a0f4c-201b-43ec-ae2d-c9c11d5fb343",
   "metadata": {},
   "outputs": [
    {
     "data": {
      "text/plain": [
       "(14, 526, 794)"
      ]
     },
     "execution_count": 28,
     "metadata": {},
     "output_type": "execute_result"
    }
   ],
   "source": [
    "np.reshape(node_loaded, (n_subs,n_ts,n_vox)).shape\n"
   ]
  },
  {
   "cell_type": "code",
   "execution_count": 44,
   "id": "24bd86c5-26b3-4f0c-8377-3d14c750b57b",
   "metadata": {},
   "outputs": [
    {
     "name": "stdout",
     "output_type": "stream",
     "text": [
      "7Networks_RH_Default_PFCdPFCm_2\n",
      "first (14, 2209, 526)\n",
      "(14, 526, 2209)\n",
      "Max is 5 events\n",
      "finished with part 1 for node\n",
      "Max is 5 events\n",
      "5\n",
      "[134 246 355 456]\n",
      "7Networks_RH_Default_PFCdPFCm_3\n",
      "first (14, 1245, 526)\n",
      "(14, 526, 1245)\n",
      "Max is 20 events\n",
      "finished with part 1 for node\n",
      "Max is 23 events\n",
      "23\n",
      "[ 16  42  66  94 119 144 168 190 211 235 258 279 300 324 345 366 390 412\n",
      " 434 459 483 507]\n",
      "7Networks_RH_Default_pCunPCC_1\n",
      "first (14, 496, 526)\n",
      "(14, 526, 496)\n",
      "Max is 5 events\n",
      "finished with part 1 for node\n",
      "Max is 7 events\n",
      "7\n",
      "[ 76 151 224 304 389 465]\n",
      "7Networks_RH_Default_pCunPCC_2\n",
      "first (14, 819, 526)\n",
      "(14, 526, 819)\n",
      "Max is 5 events\n",
      "finished with part 1 for node\n",
      "Max is 6 events\n",
      "6\n",
      "[100 165 277 381 484]\n"
     ]
    }
   ],
   "source": [
    "nodes = list(range(1, 101))\n",
    "results = {}  # keys are nodes\n",
    "bounds = {}\n",
    "bounds_sm = {}\n",
    "for node in list(label_node['ROI Name']):\n",
    "    results[node] = []\n",
    "    bounds[node] = []\n",
    "    bounds_sm[node] = []\n",
    "\n",
    "min_here = 5\n",
    "max_here = 30\n",
    "k_array = np.arange(min_here, max_here, 5)\n",
    "test_ll = np.zeros(len(k_array))\n",
    "\n",
    "for node in list(label_node['ROI Name'])[-4:]:\n",
    "    print(node)\n",
    "    test_ll = np.zeros(len(k_array))\n",
    "    temp = np.load(schaeffer_dir + f'{node}_all_subs.npy',allow_pickle=True).item()\n",
    "    node_loaded = np.array(list(temp.values()))\n",
    "    #temp\n",
    "    print('first',node_loaded.shape)\n",
    "    n_subs, n_vox,n_ts = node_loaded.shape\n",
    "    node_loaded = np.reshape(node_loaded, (n_subs,n_ts,n_vox))\n",
    "\n",
    "    ### Z-SCORING HERE TEMPORARILY IN ORDER TO REMOVE VOXELS THAT ARE BAD (SEE ABOVE)\n",
    "    n_subs, n_ts, n_vox = node_loaded.shape\n",
    "    print(node_loaded.shape)\n",
    "\n",
    "    bad_vox = []\n",
    "    node_z = zscore(node_loaded,axis=1)\n",
    "    for sub in range(n_subs):\n",
    "        for vox in range(n_vox):\n",
    "            if (np.unique(np.isnan(node_z[sub, :, vox]))) == [True]: #means that they are True i.e. that they are all nans\n",
    "                bad_vox.append(vox)\n",
    "    bad_vox = np.unique(bad_vox) #get only the unique values\n",
    "    if len(bad_vox) > 0:\n",
    "        print('bad_vox', bad_vox)\n",
    "        node_loaded = np.delete(node_loaded[:, :, :],bad_vox,axis=2) #need to remove from node_loaded because do not want the z-scored\n",
    "        print(node_loaded.shape) #correctly removed the length of bad_vox! \n",
    "            \n",
    "    ### training on half the data\n",
    "    for i, k in enumerate(k_array):\n",
    "        movie_train = np.mean(node_loaded[:int(n_subs/2)], axis=0)\n",
    "        movie_HMM = EventSegment(k)\n",
    "        movie_HMM.fit(movie_train)\n",
    "        movie_test = np.mean(node_loaded[int(n_subs/2):], axis=0)\n",
    "        _, test_ll[i] = movie_HMM.find_events(movie_test)\n",
    "    max_ind = np.argmax(test_ll)\n",
    "\n",
    "    print('Max is %d events' % k_array[max_ind])\n",
    "    print('finished with part 1 for node')\n",
    "    if max_ind < 6: #so that it doesn't go below 6!\n",
    "        k_small = np.arange((k_array[max_ind]), (k_array[max_ind]) + 5, 1)\n",
    "    else:\n",
    "        k_small = np.arange((k_array[max_ind]) - 5, (k_array[max_ind]) + 5, 1)\n",
    "    test_ll_small = np.zeros(len(k_small))\n",
    "    for i, k in enumerate(k_small):\n",
    "        movie_train = np.mean(node_loaded[:int(n_subs/2)], axis=0)\n",
    "        movie_HMM = EventSegment(k)\n",
    "        movie_HMM.fit(movie_train)\n",
    "        movie_test = np.mean(node_loaded[int(n_subs/2):], axis=0)\n",
    "        _, test_ll_small[i] = movie_HMM.find_events(movie_test)\n",
    "\n",
    "    max_ind_fin = np.argmax(test_ll_small)\n",
    "    print('Max is %d events' % k_small[max_ind_fin])\n",
    "    test_ll_small[max_ind_fin]\n",
    "\n",
    "    movie_group = np.mean(node_loaded, axis=0)\n",
    "    nTRs = movie_group.shape[0]\n",
    "    movie_dur = nTRs * 1  # Data acquired every 1  seconds; was 1.5 seconds for Baldassano\n",
    "    \n",
    "\n",
    "    results[node] = k_small[max_ind_fin]\n",
    "    print(results[node])\n",
    "    #np.save(schaeffer_dir + '_event_avg/'+ 'events_per_roi_%s_HMM_avg_lim_%s_%s_zscore.npy' % (mov, min_here, max_here), results)\n",
    "\n",
    "    HMMsm = EventSegment(n_events=k_small[max_ind_fin], split_merge=True)\n",
    "    HMMsm.fit(movie_group)\n",
    "    bounds_s = np.where(np.diff(np.argmax(HMMsm.segments_[0], axis=1)))[0]\n",
    "    bounds_sm[node] = bounds_s\n",
    "    print(bounds_s)\n",
    "    #np.save(shen_dir + 'event_boundaries_%s_HMM_avg.npy' % (mov), bounds)\n",
    "\n",
    "    \n",
    "    \n",
    "    "
   ]
  },
  {
   "cell_type": "code",
   "execution_count": 45,
   "id": "bee1b8ae-2e20-4602-9a4a-5f727e2ff51a",
   "metadata": {},
   "outputs": [
    {
     "data": {
      "text/plain": [
       "{'7Networks_LH_Vis_1': [],\n",
       " '7Networks_LH_Vis_2': [],\n",
       " '7Networks_LH_Vis_3': [],\n",
       " '7Networks_LH_Vis_4': [],\n",
       " '7Networks_LH_Vis_5': [],\n",
       " '7Networks_LH_Vis_6': [],\n",
       " '7Networks_LH_Vis_7': [],\n",
       " '7Networks_LH_Vis_8': [],\n",
       " '7Networks_LH_Vis_9': [],\n",
       " '7Networks_LH_SomMot_1': [],\n",
       " '7Networks_LH_SomMot_2': [],\n",
       " '7Networks_LH_SomMot_3': [],\n",
       " '7Networks_LH_SomMot_4': [],\n",
       " '7Networks_LH_SomMot_5': [],\n",
       " '7Networks_LH_SomMot_6': [],\n",
       " '7Networks_LH_DorsAttn_Post_1': [],\n",
       " '7Networks_LH_DorsAttn_Post_2': [],\n",
       " '7Networks_LH_DorsAttn_Post_3': [],\n",
       " '7Networks_LH_DorsAttn_Post_4': [],\n",
       " '7Networks_LH_DorsAttn_Post_5': [],\n",
       " '7Networks_LH_DorsAttn_Post_6': [],\n",
       " '7Networks_LH_DorsAttn_PrCv_1': [],\n",
       " '7Networks_LH_DorsAttn_FEF_1': [],\n",
       " '7Networks_LH_SalVentAttn_ParOper_1': [],\n",
       " '7Networks_LH_SalVentAttn_FrOperIns_1': [],\n",
       " '7Networks_LH_SalVentAttn_FrOperIns_2': [],\n",
       " '7Networks_LH_SalVentAttn_PFCl_1': [],\n",
       " '7Networks_LH_SalVentAttn_Med_1': [],\n",
       " '7Networks_LH_SalVentAttn_Med_2': [],\n",
       " '7Networks_LH_SalVentAttn_Med_3': [],\n",
       " '7Networks_LH_Limbic_OFC_1': [],\n",
       " '7Networks_LH_Limbic_TempPole_1': [],\n",
       " '7Networks_LH_Limbic_TempPole_2': [],\n",
       " '7Networks_LH_Cont_Par_1': [],\n",
       " '7Networks_LH_Cont_PFCl_1': [],\n",
       " '7Networks_LH_Cont_pCun_1': [],\n",
       " '7Networks_LH_Cont_Cing_1': [],\n",
       " '7Networks_LH_Default_Temp_1': [],\n",
       " '7Networks_LH_Default_Temp_2': [],\n",
       " '7Networks_LH_Default_Par_1': [],\n",
       " '7Networks_LH_Default_Par_2': [],\n",
       " '7Networks_LH_Default_PFC_1': [],\n",
       " '7Networks_LH_Default_PFC_2': [],\n",
       " '7Networks_LH_Default_PFC_3': [],\n",
       " '7Networks_LH_Default_PFC_4': [],\n",
       " '7Networks_LH_Default_PFC_5': [],\n",
       " '7Networks_LH_Default_PFC_6': [],\n",
       " '7Networks_LH_Default_PFC_7': [],\n",
       " '7Networks_LH_Default_pCunPCC_1': [],\n",
       " '7Networks_LH_Default_pCunPCC_2': [],\n",
       " '7Networks_RH_Vis_1': [],\n",
       " '7Networks_RH_Vis_2': [],\n",
       " '7Networks_RH_Vis_3': [],\n",
       " '7Networks_RH_Vis_4': [],\n",
       " '7Networks_RH_Vis_5': [],\n",
       " '7Networks_RH_Vis_6': [],\n",
       " '7Networks_RH_Vis_7': [],\n",
       " '7Networks_RH_Vis_8': [],\n",
       " '7Networks_RH_SomMot_1': [],\n",
       " '7Networks_RH_SomMot_2': [],\n",
       " '7Networks_RH_SomMot_3': [],\n",
       " '7Networks_RH_SomMot_4': [],\n",
       " '7Networks_RH_SomMot_5': [],\n",
       " '7Networks_RH_SomMot_6': [],\n",
       " '7Networks_RH_SomMot_7': [],\n",
       " '7Networks_RH_SomMot_8': [],\n",
       " '7Networks_RH_DorsAttn_Post_1': [],\n",
       " '7Networks_RH_DorsAttn_Post_2': [],\n",
       " '7Networks_RH_DorsAttn_Post_3': [],\n",
       " '7Networks_RH_DorsAttn_Post_4': [],\n",
       " '7Networks_RH_DorsAttn_Post_5': [],\n",
       " '7Networks_RH_DorsAttn_PrCv_1': [],\n",
       " '7Networks_RH_DorsAttn_FEF_1': [],\n",
       " '7Networks_RH_SalVentAttn_TempOccPar_1': [],\n",
       " '7Networks_RH_SalVentAttn_TempOccPar_2': [],\n",
       " '7Networks_RH_SalVentAttn_FrOperIns_1': [],\n",
       " '7Networks_RH_SalVentAttn_Med_1': [],\n",
       " '7Networks_RH_SalVentAttn_Med_2': [],\n",
       " '7Networks_RH_Limbic_OFC_1': [],\n",
       " '7Networks_RH_Limbic_TempPole_1': [],\n",
       " '7Networks_RH_Cont_Par_1': [],\n",
       " '7Networks_RH_Cont_Par_2': [],\n",
       " '7Networks_RH_Cont_PFCl_1': [],\n",
       " '7Networks_RH_Cont_PFCl_2': [],\n",
       " '7Networks_RH_Cont_PFCl_3': [],\n",
       " '7Networks_RH_Cont_PFCl_4': [],\n",
       " '7Networks_RH_Cont_Cing_1': [],\n",
       " '7Networks_RH_Cont_PFCmp_1': [],\n",
       " '7Networks_RH_Cont_pCun_1': [],\n",
       " '7Networks_RH_Default_Par_1': [],\n",
       " '7Networks_RH_Default_Temp_1': [],\n",
       " '7Networks_RH_Default_Temp_2': [],\n",
       " '7Networks_RH_Default_Temp_3': [],\n",
       " '7Networks_RH_Default_PFCv_1': [],\n",
       " '7Networks_RH_Default_PFCv_2': [],\n",
       " '7Networks_RH_Default_PFCdPFCm_1': [],\n",
       " '7Networks_RH_Default_PFCdPFCm_2': array([134, 246, 355, 456]),\n",
       " '7Networks_RH_Default_PFCdPFCm_3': array([ 16,  42,  66,  94, 119, 144, 168, 190, 211, 235, 258, 279, 300,\n",
       "        324, 345, 366, 390, 412, 434, 459, 483, 507]),\n",
       " '7Networks_RH_Default_pCunPCC_1': array([ 76, 151, 224, 304, 389, 465]),\n",
       " '7Networks_RH_Default_pCunPCC_2': array([100, 165, 277, 381, 484])}"
      ]
     },
     "execution_count": 45,
     "metadata": {},
     "output_type": "execute_result"
    }
   ],
   "source": [
    "bounds_sm"
   ]
  }
 ],
 "metadata": {
  "kernelspec": {
   "display_name": "brainiak_py37",
   "language": "python",
   "name": "brainiak_py37"
  },
  "language_info": {
   "codemirror_mode": {
    "name": "ipython",
    "version": 3
   },
   "file_extension": ".py",
   "mimetype": "text/x-python",
   "name": "python",
   "nbconvert_exporter": "python",
   "pygments_lexer": "ipython3",
   "version": "3.7.12"
  }
 },
 "nbformat": 4,
 "nbformat_minor": 5
}
