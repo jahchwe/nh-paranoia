{
 "cells": [
  {
   "cell_type": "markdown",
   "id": "9f93253c-7db4-4686-b73a-6c1a9f1058ff",
   "metadata": {},
   "source": [
    "#### the scope of this notebook is to extract the ROIs from the parcellation "
   ]
  },
  {
   "cell_type": "code",
   "execution_count": 14,
   "id": "0881a6a2-b418-4c0b-885a-60e98e456187",
   "metadata": {},
   "outputs": [],
   "source": [
    "import numpy as np\n",
    "import scipy as sp\n",
    "from matplotlib import pyplot as plt\n",
    "import sys \n",
    "import os\n",
    "import nibabel as nib\n",
    "from nilearn import plotting\n",
    "import glob\n",
    "from nilearn.image import resample_to_img\n",
    "from nilearn.masking import apply_mask\n"
   ]
  },
  {
   "cell_type": "code",
   "execution_count": 2,
   "id": "fc4cfa22-2e78-455b-aac2-3cc5e87a4265",
   "metadata": {},
   "outputs": [
    {
     "data": {
      "text/plain": [
       "'/home/jovyan/paranoia_project/nh-paranoia/code'"
      ]
     },
     "execution_count": 2,
     "metadata": {},
     "output_type": "execute_result"
    }
   ],
   "source": [
    "pwd"
   ]
  },
  {
   "cell_type": "code",
   "execution_count": 22,
   "id": "12428465-a626-4a0e-947d-88a86e205531",
   "metadata": {},
   "outputs": [],
   "source": [
    "data_dir = '/home/jovyan/shared/Paranoia/fmriprep/'\n",
    "mask_dir = '/home/jovyan/shared/Paranoia/data/'"
   ]
  },
  {
   "cell_type": "code",
   "execution_count": 19,
   "id": "beb6ac4c-d6d6-47da-8f6e-ffa9e09f62fe",
   "metadata": {},
   "outputs": [],
   "source": [
    "# list_of_subs = os.listdir(data_dir)\n",
    "# idx = list_of_subs.index('sub-tb2994')\n",
    "# sub = list_of_subs[idx]\n",
    "# print(sub)"
   ]
  },
  {
   "cell_type": "code",
   "execution_count": 21,
   "id": "83114d1c-69e0-4916-ab3a-f6809f76811b",
   "metadata": {},
   "outputs": [
    {
     "data": {
      "text/plain": [
       "'/home/jovyan/shared/Paranoia/fmriprep/sub-tb2994/func/sub-tb2994_denoise_smooth6mm_task-story_run-1_space-MNI152NLin2009cAsym_desc-preproc_bold.nii.gz'"
      ]
     },
     "execution_count": 21,
     "metadata": {},
     "output_type": "execute_result"
    }
   ],
   "source": [
    "file = glob.glob(os.path.join(data_dir,'*', 'func', 'sub-tb2994*denoise_smooth6mm_task-story_run-1*nii.gz'))\n",
    "file = file[0]\n",
    "file\n"
   ]
  },
  {
   "cell_type": "code",
   "execution_count": 23,
   "id": "40b4b67d-af91-49cc-8ba5-7147830a1dda",
   "metadata": {},
   "outputs": [
    {
     "data": {
      "text/plain": [
       "'/home/jovyan/shared/Paranoia/data/_masks/Schaefer2018_1000Parcels_7Networks_order_FSLMNI152_1mm.nii.gz'"
      ]
     },
     "execution_count": 23,
     "metadata": {},
     "output_type": "execute_result"
    }
   ],
   "source": [
    "atlas_fname = (mask_dir + '_masks/'+ 'Schaefer2018_1000Parcels_7Networks_order_FSLMNI152_1mm.nii.gz')\n",
    "atlas = nib.load(atlas_fname)\n"
   ]
  },
  {
   "cell_type": "code",
   "execution_count": null,
   "id": "fa359f48-c48e-493a-85f0-06a75fe37287",
   "metadata": {},
   "outputs": [],
   "source": []
  },
  {
   "cell_type": "code",
   "execution_count": null,
   "id": "720ed69d-e08d-431e-b8bc-5fb9593d8785",
   "metadata": {},
   "outputs": [],
   "source": [
    "\n",
    "data_dir = '/dartfs/rc/lab/F/FinnLab/clara/K99_EventSeg/data/'\n",
    "data_dir_eneko = '/dartfs/rc/lab/F/FinnLab/clara/K99_for_eneko/data/'\n",
    "#data_dir_eneko = '/Volumes/rc/lab/F/FinnLab/clara/K99_for_eneko/data/'\n",
    "\n",
    "# Initialize dataset\n",
    "\n",
    "K99_dir = '/dartfs/rc/lab/F/FinnLab/K99_NSD/data_for_Josie/'\n",
    "#K99_dir = '/Volumes/rc/lab/F/FinnLab/K99_NSD/data_for_Josie/'\n",
    "\n",
    "schaeffer_dir = '/dartfs/rc/lab/F/FinnLab/clara/K99_for_eneko/data/_schaeffer_rois/'\n",
    "#schaeffer_dir = '/Volumes/rc/lab/F/FinnLab/clara/K99_for_eneko/data/_schaeffer_rois/'\n",
    "\n",
    "\n",
    "atlas_fname = (data_dir_eneko + '_masks/'+ 'Schaefer2018_1000Parcels_7Networks_order_FSLMNI152_1mm.nii.gz')\n",
    "\n",
    "atlas = nib.load(atlas_fname)\n",
    "subj = 'sub-NSD103'\n",
    "task = 'iteration'\n",
    "lab = '_nocensor_srm-recon'\n",
    "\n",
    "node = 2\n",
    "fname = (K99_dir + subj+'/' + subj + '_task-' + task + lab + '.nii.gz')\n",
    "img = nib.load(fname) # use NiBabel to load the .nii.gz file\n",
    "mask = resample_to_img(atlas, img, interpolation='nearest')\n",
    "\n",
    "plotting.plot_roi(mask)\n",
    "np_img = img.get_fdata()\n",
    "np_mask = mask.get_fdata()\n",
    "this_node = np_mask==node\n",
    "print(np_img[this_node].shape)\n",
    "\n",
    "nums = list(range(103,118))+list(range(119,121)) + list(range(122,131))+ list(range(132,137))+ list(range(138,139)) + list(range(140,141))+list(range(142,143)) + list(range(145,152))+ list(range(153,154)) + list(range(155,156))                                                                         \n",
    "print(len(nums))\n",
    "print(nums)\n",
    "\n",
    "# Create your dictionary for storing nodewise results\n",
    "\n",
    "nodes = range(800,1001)\n",
    "nodes = range(800,1001)\n",
    "nodes = range(int(sys.argv[1]),(int(sys.argv[1])+1))\n",
    "\n",
    "#initialize a dictionary\n",
    "for node in nodes:\n",
    "    print(node)\n",
    "    node_array = []\n",
    "    for num in nums:\n",
    "        subj = 'sub-NSD' + str(num)\n",
    "        print(subj)\n",
    "        fname = (K99_dir + subj+'/' + subj + '_task-' + task + lab + '.nii.gz')\n",
    "        img = nib.load(fname) # use NiBabel to load the .nii.gz file\n",
    "        #already have the np_mask from above\n",
    "        this_node = np_mask==node\n",
    "        np_img = img.get_fdata()\n",
    "        print(np_img[this_node].T.shape)\n",
    "        node_array.append(np_img[this_node].T)\n",
    "    np.save(schaeffer_dir + '%s_node%s_movie_7N.npy' %(task,node),node_array)\n",
    "\n",
    "\n",
    "    \n"
   ]
  }
 ],
 "metadata": {
  "kernelspec": {
   "display_name": "Python 3 (ipykernel)",
   "language": "python",
   "name": "python3"
  },
  "language_info": {
   "codemirror_mode": {
    "name": "ipython",
    "version": 3
   },
   "file_extension": ".py",
   "mimetype": "text/x-python",
   "name": "python",
   "nbconvert_exporter": "python",
   "pygments_lexer": "ipython3",
   "version": "3.7.12"
  }
 },
 "nbformat": 4,
 "nbformat_minor": 5
}
