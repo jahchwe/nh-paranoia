{
 "cells": [
  {
   "cell_type": "code",
   "execution_count": 1,
   "id": "2e6945e7-45d6-4baf-9064-e627635a261a",
   "metadata": {},
   "outputs": [],
   "source": [
    "import nibabel as nib\n",
    "import numpy as np\n",
    "from glob import glob\n",
    "from tqdm import tqdm\n",
    "import h5py\n",
    "from scipy.signal import decimate\n",
    "import os"
   ]
  },
  {
   "cell_type": "code",
   "execution_count": null,
   "id": "e8e35a36-2598-4b6c-b264-46040472a12c",
   "metadata": {},
   "outputs": [],
   "source": []
  },
  {
   "cell_type": "code",
   "execution_count": 2,
   "id": "aa042ed9-422b-4a25-8458-7b81e61a30c2",
   "metadata": {},
   "outputs": [],
   "source": [
    "data_dir = '/home/jovyan/shared/Paranoia/fmriprep/'\n",
    "mask_dir = '/home/jovyan/nh-paranoia/code/data/_masks/'\n",
    "out_dir = 'data/PMC/'"
   ]
  },
  {
   "cell_type": "code",
   "execution_count": 10,
   "id": "0bcac727-bb5a-49ad-9ffe-3eb1b554064e",
   "metadata": {},
   "outputs": [],
   "source": [
    "subject_files = sorted(glob(os.path.join(data_dir,'*', 'func', '*denoise_smooth6mm_task-story_run-3*nii.gz')))[:13]\n"
   ]
  },
  {
   "cell_type": "code",
   "execution_count": 11,
   "id": "861c0944-c6e3-4467-aa0a-5db5da75817a",
   "metadata": {},
   "outputs": [
    {
     "name": "stderr",
     "output_type": "stream",
     "text": [
      "100%|██████████| 13/13 [01:38<00:00,  7.57s/it]\n"
     ]
    }
   ],
   "source": [
    "mask = nib.load(mask_dir+'DMN.nii.gz').get_fdata().astype('int') == 1\n",
    "\n",
    "T = 526\n",
    "PMC = np.zeros((int(mask.sum()), T, len(subject_files)))\n",
    "for i, f in enumerate(tqdm(subject_files)):\n",
    "    np.save('PMC_sub_%s'%str(i), nib.load(f).get_fdata()[mask])\n",
    "\n"
   ]
  },
  {
   "cell_type": "code",
   "execution_count": null,
   "id": "36648dd6-2e59-49d4-bbcd-7868a0ee7b22",
   "metadata": {},
   "outputs": [],
   "source": []
  },
  {
   "cell_type": "code",
   "execution_count": 12,
   "id": "a58fb1de-c133-43ce-ad6b-99644e5d5bb7",
   "metadata": {},
   "outputs": [],
   "source": [
    "run3_PMC=[np.load(f) for f in os.listdir() if 'npy' in f]"
   ]
  },
  {
   "cell_type": "code",
   "execution_count": 13,
   "id": "d6884013-a8e2-4dbe-966c-c4a822114001",
   "metadata": {},
   "outputs": [],
   "source": [
    "np.save('code/run3_PMC.npy',run3_PMC)"
   ]
  },
  {
   "cell_type": "code",
   "execution_count": null,
   "id": "1845b9c1-7f4a-4ba6-be4a-d3bb1d5c8c03",
   "metadata": {},
   "outputs": [],
   "source": []
  }
 ],
 "metadata": {
  "kernelspec": {
   "display_name": "Python 3 (ipykernel)",
   "language": "python",
   "name": "python3"
  },
  "language_info": {
   "codemirror_mode": {
    "name": "ipython",
    "version": 3
   },
   "file_extension": ".py",
   "mimetype": "text/x-python",
   "name": "python",
   "nbconvert_exporter": "python",
   "pygments_lexer": "ipython3",
   "version": "3.7.12"
  }
 },
 "nbformat": 4,
 "nbformat_minor": 5
}
