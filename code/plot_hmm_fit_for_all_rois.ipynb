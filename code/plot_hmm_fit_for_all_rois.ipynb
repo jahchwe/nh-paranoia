{
 "cells": [
  {
   "cell_type": "markdown",
   "id": "1af99eed",
   "metadata": {},
   "source": [
    "# Exploring the extracted ROI timeseries\n",
    "\n"
   ]
  },
  {
   "cell_type": "code",
   "execution_count": 2,
   "id": "ed629002",
   "metadata": {},
   "outputs": [
    {
     "data": {
      "application/javascript": [
       "IPython.notebook.set_autosave_interval(5000)"
      ]
     },
     "metadata": {},
     "output_type": "display_data"
    },
    {
     "name": "stdout",
     "output_type": "stream",
     "text": [
      "Autosaving every 5 seconds\n"
     ]
    }
   ],
   "source": [
    "import numpy as np\n",
    "import nibabel as nib\n",
    "import glob\n",
    "import matplotlib.pyplot as plt\n",
    "from brainiak.eventseg import event\n",
    "from scipy.stats import zscore\n",
    "import matplotlib.patches as patches\n",
    "\n",
    "%autosave 5\n"
   ]
  },
  {
   "cell_type": "code",
   "execution_count": 3,
   "id": "36b659ad",
   "metadata": {},
   "outputs": [
    {
     "data": {
      "text/plain": [
       "[]"
      ]
     },
     "execution_count": 3,
     "metadata": {},
     "output_type": "execute_result"
    }
   ],
   "source": [
    "all_roi_timeseries = glob.glob('/Users/jahchwe/neurohack/nh-paranoia/schaeffer_dict_roi/*')\n",
    "all_roi_timeseries"
   ]
  },
  {
   "cell_type": "code",
   "execution_count": 5,
   "id": "12b2fee2-f780-47ec-9e02-31aabb36183e",
   "metadata": {},
   "outputs": [],
   "source": [
    "all_roi_timeseries = glob.glob('/home/jovyan/paranoia_project/schaeffer_dict_roi/*')\n"
   ]
  },
  {
   "cell_type": "code",
   "execution_count": 6,
   "id": "eba29f1f",
   "metadata": {},
   "outputs": [],
   "source": [
    "# sanity check that each timeseries has none zero \n",
    "# reformat data into a dictionary with subject and ROI keys, with timeseries as entries\n",
    "\n",
    "all_data = {}\n",
    "\n",
    "for f in all_roi_timeseries[68:70]:\n",
    "    \n",
    "    idx = f.split('/')[-1]\n",
    "    idx = idx.split('_')[:-2]\n",
    "    idx = '_'.join(idx)\n",
    "    \n",
    "    data = np.load(f, allow_pickle = True).item()\n",
    "    for d in data:\n",
    "        #print(data[d].shape)\n",
    "        None\n",
    "    all_data[idx] = data\n",
    "    \n",
    "# voxels x TRs\n",
    "# one row per subject per ROI"
   ]
  },
  {
   "cell_type": "code",
   "execution_count": 12,
   "id": "4926c4d0-1996-44da-83e4-cab2da23a72d",
   "metadata": {},
   "outputs": [
    {
     "data": {
      "text/plain": [
       "['/home/jovyan/paranoia_project/schaeffer_dict_roi/7Networks_RH_SomMot_7_all_subs.npy',\n",
       " '/home/jovyan/paranoia_project/schaeffer_dict_roi/7Networks_RH_DorsAttn_Post_1_all_subs.npy']"
      ]
     },
     "execution_count": 12,
     "metadata": {},
     "output_type": "execute_result"
    }
   ],
   "source": [
    "all_roi_timeseries[68:70]"
   ]
  },
  {
   "cell_type": "markdown",
   "id": "2ed91f54",
   "metadata": {},
   "source": [
    "# Visualizing the HMM for all ROIs\n",
    "## create functions for iteration over all ROIs"
   ]
  },
  {
   "cell_type": "code",
   "execution_count": 7,
   "id": "05df073e",
   "metadata": {},
   "outputs": [],
   "source": [
    "# roi data in the form of subjects X voxels X TRs \n",
    "\n",
    "def run_hmm(roi_data):\n",
    "    \n",
    "    k_array = np.arange(2,50,5)\n",
    "    test_ll = np.zeros(len(k_array))\n",
    "    nsubj = roi_data.shape[0]\n",
    "    print(nsubj)\n",
    "\n",
    "    # note that the HMM takes a time x voxel ndarray. \n",
    "\n",
    "    # Loop over possible settings for the number of events k\n",
    "    print('Trying events:', end=' ')\n",
    "    for i, k in enumerate(k_array):\n",
    "        print(k, end=' ')\n",
    "\n",
    "        # Fit HMM to half of the subjects\n",
    "        train = zscore(roi_data[:(nsubj//2),:,:].mean(0), axis=1).T\n",
    "        HMM = event.EventSegment(k)\n",
    "        HMM.fit(train)\n",
    "\n",
    "        # Test log-likelihood (model fit) on other half of subjects\n",
    "        test = zscore(roi_data[(nsubj//2):,:,:].mean(0), axis=1).T\n",
    "        _, test_ll[i] = HMM.find_events(test)\n",
    "\n",
    "    best_k = k_array[np.argmax(test_ll)]\n",
    "    print('\\nOptimal # of events: ', best_k)\n",
    "\n",
    "\n",
    "    # Do a final fit with the optimal number of events, using all subjects\n",
    "    # Set split_merge=True to prioritize fit quality over speed\n",
    "    es = event.EventSegment(best_k, split_merge=True)\n",
    "    es.fit(zscore(roi_data.mean(0), axis=1).T)\n",
    "    return es"
   ]
  },
  {
   "cell_type": "code",
   "execution_count": 16,
   "id": "b50bd948",
   "metadata": {},
   "outputs": [],
   "source": [
    "def plot_correlation_w_boundaries(da_list):\n",
    "    # list of lists, where inner entries are [roi, hmm_fitted]\n",
    "    # Plot timepoint-timepoint correlation matrix\n",
    "    \n",
    "    # da list [0] = roi\n",
    "    # da list [1] = roi_data\n",
    "    # da list [2] = eb\n",
    "        \n",
    "    for it in range(len(da_list)):\n",
    "        fig, ax = plt.subplots()\n",
    "        ax.imshow(np.corrcoef(zscore(da_list[it][1].mean(0), axis=1).T), cmap = 'viridis')\n",
    "        ax.set_title(da_list[it][0])\n",
    "        ax.set_xlabel('Timepoint')\n",
    "        ax.set_ylabel('Timepoint')\n",
    "\n",
    "        # Plot boundaries as boxes on top of correlation matrix\n",
    "        bounds_aug = np.concatenate(([0], da_list[it][2], [da_list[it][1].shape[1]]))\n",
    "        for i in range(len(bounds_aug) - 1):\n",
    "            rect = patches.Rectangle(\n",
    "                (bounds_aug[i], bounds_aug[i]),\n",
    "                bounds_aug[i+1] - bounds_aug[i],\n",
    "                bounds_aug[i+1] - bounds_aug[i],\n",
    "                linewidth = 2, edgecolor = 'w',facecolor = 'none'\n",
    "            )\n",
    "            ax.add_patch(rect)\n",
    "        \n",
    "        #plt.savefig('figs/%s_corr_w_boundaries.jpg' % da_list[it][0], dpi = 200)\n",
    "    "
   ]
  },
  {
   "cell_type": "code",
   "execution_count": null,
   "id": "8c68056c-c22b-40f3-b1a7-ce6fe9347260",
   "metadata": {},
   "outputs": [],
   "source": []
  },
  {
   "cell_type": "code",
   "execution_count": 13,
   "id": "eb4e8628",
   "metadata": {},
   "outputs": [
    {
     "name": "stdout",
     "output_type": "stream",
     "text": [
      "17\n",
      "Trying events: 2 17\n",
      "Trying events: 2 "
     ]
    }
   ],
   "source": [
    "hmm_boundaries = []\n",
    "\n",
    "for roi in all_data.keys():\n",
    "    roi_data = np.array([all_data[roi][x] for x in all_data[roi].keys()])\n",
    "    #assert roi_data.shape[0] == 14 and roi_data.shape[2] == 526\n",
    "    \n",
    "    try:\n",
    "        hmm_fit = run_hmm(roi_data)\n",
    "\n",
    "        eb = np.where(np.diff(np.argmax(hmm_fit.segments_[0],axis=1)))[0]\n",
    "        hmm_boundaries.append([roi, roi_data, eb]) \n",
    "        \n",
    "    except:\n",
    "        continue"
   ]
  },
  {
   "cell_type": "code",
   "execution_count": 17,
   "id": "88bb697f",
   "metadata": {},
   "outputs": [],
   "source": [
    "plot_correlation_w_boundaries(hmm_boundaries)"
   ]
  },
  {
   "cell_type": "code",
   "execution_count": null,
   "id": "f95c0079",
   "metadata": {},
   "outputs": [],
   "source": []
  }
 ],
 "metadata": {
  "kernelspec": {
   "display_name": "brainiak_py37",
   "language": "python",
   "name": "brainiak_py37"
  },
  "language_info": {
   "codemirror_mode": {
    "name": "ipython",
    "version": 3
   },
   "file_extension": ".py",
   "mimetype": "text/x-python",
   "name": "python",
   "nbconvert_exporter": "python",
   "pygments_lexer": "ipython3",
   "version": "3.7.12"
  }
 },
 "nbformat": 4,
 "nbformat_minor": 5
}
