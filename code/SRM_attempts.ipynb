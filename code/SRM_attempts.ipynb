{
 "cells": [
  {
   "cell_type": "code",
   "execution_count": 2,
   "id": "351c5fec-7bfa-4b67-8e1a-42fe51289a83",
   "metadata": {},
   "outputs": [
    {
     "name": "stderr",
     "output_type": "stream",
     "text": [
      "/srv/conda/envs/notebook/lib/python3.7/site-packages/nilearn/input_data/__init__.py:27: FutureWarning: The import path 'nilearn.input_data' is deprecated in version 0.9. Importing from 'nilearn.input_data' will be possible at least until release 0.13.0. Please import from 'nilearn.maskers' instead.\n",
      "  warnings.warn(message, FutureWarning)\n"
     ]
    }
   ],
   "source": [
    "import os\n",
    "import glob\n",
    "import numpy as np\n",
    "import pandas as pd\n",
    "import seaborn as sns\n",
    "import nltools\n",
    "from nltools.mask import create_sphere, expand_mask\n",
    "from nltools.data import Brain_Data, Adjacency\n",
    "from nltools.stats import align\n",
    "import matplotlib.pyplot as plt\n",
    "import matplotlib.gridspec as gridspec\n",
    "from nilearn.plotting import plot_stat_map\n",
    "import datalad.api as dl\n",
    "import warnings\n",
    "\n",
    "warnings.simplefilter('ignore')"
   ]
  },
  {
   "cell_type": "code",
   "execution_count": 3,
   "id": "5b2aab87-592c-47c8-bca8-c3e6705ada07",
   "metadata": {},
   "outputs": [
    {
     "data": {
      "text/plain": [
       "'/home/jovyan'"
      ]
     },
     "execution_count": 3,
     "metadata": {},
     "output_type": "execute_result"
    }
   ],
   "source": [
    "pwd"
   ]
  },
  {
   "cell_type": "code",
   "execution_count": 4,
   "id": "cbbe4c2d-e641-4eea-9575-c7ae72722d09",
   "metadata": {},
   "outputs": [],
   "source": [
    "data_dir = '/home/jovyan/shared/Paranoia/'"
   ]
  },
  {
   "cell_type": "code",
   "execution_count": 8,
   "id": "a366734f-bb07-4e1d-8b29-a2b8a7897a66",
   "metadata": {},
   "outputs": [],
   "source": [
    "# Initialize dataset\n",
    "ds = dl.Dataset(data_dir)\n",
    "          "
   ]
  },
  {
   "cell_type": "code",
   "execution_count": null,
   "id": "f3b8da04-14a8-4151-b61f-3c4c7ff234a2",
   "metadata": {},
   "outputs": [],
   "source": []
  },
  {
   "cell_type": "code",
   "execution_count": null,
   "id": "c916967d-1b79-4f3a-ae30-7a27ddfe94d5",
   "metadata": {},
   "outputs": [],
   "source": [
    "# Get Cropped & Denoised HDF5 Files\n",
    "result = ds.get(glob.glob(os.path.join(data_dir, 'fmriprep', '*', 'func', f'*crop*hdf5')))\n",
    "      "
   ]
  },
  {
   "cell_type": "code",
   "execution_count": null,
   "id": "108931b8-9bd4-4690-ba68-07d4a036ebb2",
   "metadata": {},
   "outputs": [],
   "source": []
  }
 ],
 "metadata": {
  "kernelspec": {
   "display_name": "Python 3 (ipykernel)",
   "language": "python",
   "name": "python3"
  },
  "language_info": {
   "codemirror_mode": {
    "name": "ipython",
    "version": 3
   },
   "file_extension": ".py",
   "mimetype": "text/x-python",
   "name": "python",
   "nbconvert_exporter": "python",
   "pygments_lexer": "ipython3",
   "version": "3.7.12"
  }
 },
 "nbformat": 4,
 "nbformat_minor": 5
}
