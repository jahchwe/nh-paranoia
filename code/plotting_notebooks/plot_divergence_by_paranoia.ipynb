{
 "cells": [
  {
   "cell_type": "code",
   "execution_count": 2,
   "id": "4dfc2447-8a11-41d3-8462-ece777d8833b",
   "metadata": {},
   "outputs": [],
   "source": [
    "import numpy as np\n",
    "import pandas as pd\n",
    "import matplotlib.pyplot as plt\n",
    "import seaborn as sns"
   ]
  },
  {
   "cell_type": "code",
   "execution_count": 3,
   "id": "801f0268-b24d-4340-8d00-b4983c757133",
   "metadata": {},
   "outputs": [],
   "source": [
    "diverge = [0.23603427983946257,\n",
    " 0.157398235991133,\n",
    " 0.20819428945759075,\n",
    " 0.2608914586261144,\n",
    " 0.19580235221729822,\n",
    " 0.23731740514020674,\n",
    " 0.22938376556037285,\n",
    " 0.3157420778352817,\n",
    " 0.2840639917796846,\n",
    " 0.3808312827740497,\n",
    " 0.3607802392118116,\n",
    " 0.5472445576513864,\n",
    " 0.31309103216080014,\n",
    " 0.22356749753879782,\n",
    " 0.2039387602328949,\n",
    " 0.3542255867673209,\n",
    " 0.28935540934624443]"
   ]
  },
  {
   "cell_type": "code",
   "execution_count": 4,
   "id": "b03892dc-f4fe-4aed-8abf-e36f9754f41c",
   "metadata": {},
   "outputs": [],
   "source": [
    "paranoia = [22, 16, 18, 20, 18, 18, 19, 38, 17, 23, 24, 40, 17, 20, 17, 21, 16]"
   ]
  },
  {
   "cell_type": "code",
   "execution_count": null,
   "id": "3547f429-525e-48fa-8941-c46492c0a4d4",
   "metadata": {},
   "outputs": [],
   "source": []
  },
  {
   "cell_type": "code",
   "execution_count": 5,
   "id": "0560cd9f-aec2-4c6c-b3a4-6a067ddc7fc5",
   "metadata": {},
   "outputs": [
    {
     "name": "stdout",
     "output_type": "stream",
     "text": [
      "17\n"
     ]
    }
   ],
   "source": [
    "print(len(diverge))"
   ]
  },
  {
   "cell_type": "code",
   "execution_count": 6,
   "id": "a608b98b-1256-4127-aa20-f3ffafb4e62e",
   "metadata": {},
   "outputs": [
    {
     "name": "stdout",
     "output_type": "stream",
     "text": [
      "17\n"
     ]
    }
   ],
   "source": [
    "print(len(paranoia))"
   ]
  },
  {
   "cell_type": "code",
   "execution_count": 5,
   "id": "1e229710-4933-436b-b98c-243c96c92bfe",
   "metadata": {},
   "outputs": [
    {
     "data": {
      "text/html": [
       "<div>\n",
       "<style scoped>\n",
       "    .dataframe tbody tr th:only-of-type {\n",
       "        vertical-align: middle;\n",
       "    }\n",
       "\n",
       "    .dataframe tbody tr th {\n",
       "        vertical-align: top;\n",
       "    }\n",
       "\n",
       "    .dataframe thead th {\n",
       "        text-align: right;\n",
       "    }\n",
       "</style>\n",
       "<table border=\"1\" class=\"dataframe\">\n",
       "  <thead>\n",
       "    <tr style=\"text-align: right;\">\n",
       "      <th></th>\n",
       "      <th>diverge</th>\n",
       "      <th>paranoia</th>\n",
       "      <th>subjects</th>\n",
       "    </tr>\n",
       "  </thead>\n",
       "  <tbody>\n",
       "    <tr>\n",
       "      <th>0</th>\n",
       "      <td>0.236034</td>\n",
       "      <td>22</td>\n",
       "      <td>0</td>\n",
       "    </tr>\n",
       "    <tr>\n",
       "      <th>1</th>\n",
       "      <td>0.157398</td>\n",
       "      <td>16</td>\n",
       "      <td>1</td>\n",
       "    </tr>\n",
       "    <tr>\n",
       "      <th>2</th>\n",
       "      <td>0.208194</td>\n",
       "      <td>18</td>\n",
       "      <td>2</td>\n",
       "    </tr>\n",
       "    <tr>\n",
       "      <th>3</th>\n",
       "      <td>0.260891</td>\n",
       "      <td>20</td>\n",
       "      <td>3</td>\n",
       "    </tr>\n",
       "    <tr>\n",
       "      <th>4</th>\n",
       "      <td>0.195802</td>\n",
       "      <td>18</td>\n",
       "      <td>4</td>\n",
       "    </tr>\n",
       "  </tbody>\n",
       "</table>\n",
       "</div>"
      ],
      "text/plain": [
       "    diverge  paranoia  subjects\n",
       "0  0.236034        22         0\n",
       "1  0.157398        16         1\n",
       "2  0.208194        18         2\n",
       "3  0.260891        20         3\n",
       "4  0.195802        18         4"
      ]
     },
     "execution_count": 5,
     "metadata": {},
     "output_type": "execute_result"
    }
   ],
   "source": [
    "df = pd.DataFrame()\n",
    "df['diverge']= diverge\n",
    "df['paranoia']= paranoia\n",
    "df['subjects'] = range(17)\n",
    "df.head()"
   ]
  },
  {
   "cell_type": "code",
   "execution_count": 34,
   "id": "bb28631c-81a2-410e-b34b-e71dc3443a64",
   "metadata": {},
   "outputs": [
    {
     "data": {
      "text/plain": [
       "[22, 16, 18, 20, 18, 18, 19, 38, 17, 23, 24, 40, 17, 20, 17, 21, 16]"
      ]
     },
     "execution_count": 34,
     "metadata": {},
     "output_type": "execute_result"
    }
   ],
   "source": [
    "paranoia"
   ]
  },
  {
   "cell_type": "code",
   "execution_count": 6,
   "id": "c92063a1-4704-4e50-b47d-d82454865006",
   "metadata": {},
   "outputs": [],
   "source": [
    "max_sub = list(df[df['paranoia']==40]['subjects'])[0]\n",
    "sec_sub = list(df[df['paranoia']==38]['subjects'])[0]\n",
    "\n",
    "col = [0]*17\n",
    "col[max_sub]=1\n",
    "col[sec_sub]=2\n",
    "df['col'] = col"
   ]
  },
  {
   "cell_type": "code",
   "execution_count": 61,
   "id": "e1c6162a-6eef-4ff3-993a-113f946eef7c",
   "metadata": {},
   "outputs": [
    {
     "data": {
      "image/png": "[encoded data removed]",
      "text/plain": [
       "<Figure size 432x288 with 1 Axes>"
      ]
     },
     "metadata": {
      "needs_background": "light"
     },
     "output_type": "display_data"
    }
   ],
   "source": [
    "g = sns.histplot(data=df,x='paranoia',bins=17,hue='col',palette='Reds')\n",
    "plt.savefig('paranoia_dist.png')\n"
   ]
  },
  {
   "cell_type": "code",
   "execution_count": 62,
   "id": "0c0d4b49-575c-4211-b8be-7231322e7699",
   "metadata": {},
   "outputs": [
    {
     "data": {
      "image/png": "[encoded data removed]",
      "text/plain": [
       "<Figure size 432x288 with 1 Axes>"
      ]
     },
     "metadata": {
      "needs_background": "light"
     },
     "output_type": "display_data"
    }
   ],
   "source": [
    "g = sns.histplot(data=df,x='diverge',bins=17,hue='col',palette='Reds')\n",
    "plt.savefig('diverge_dist.png')\n"
   ]
  },
  {
   "cell_type": "code",
   "execution_count": 76,
   "id": "c25a16ab-c569-496f-a6a3-09fcd6020968",
   "metadata": {},
   "outputs": [
    {
     "data": {
      "text/plain": [
       "<seaborn.axisgrid.JointGrid at 0x7fd16e9e0e90>"
      ]
     },
     "execution_count": 76,
     "metadata": {},
     "output_type": "execute_result"
    },
    {
     "data": {
      "image/png": "[encoded data removed]",
      "text/plain": [
       "<Figure size 432x432 with 3 Axes>"
      ]
     },
     "metadata": {
      "needs_background": "light"
     },
     "output_type": "display_data"
    }
   ],
   "source": [
    "sns.jointplot(x=\"paranoia\", \n",
    "              y=\"diverge\",\n",
    "              kind='reg',\n",
    "              color=\"k\",\n",
    "             data=df,\n",
    "             marginal_kws=dict(bins=17,color='maroon'))\n"
   ]
  }
 ],
 "metadata": {
  "kernelspec": {
   "display_name": "Python 3 (ipykernel)",
   "language": "python",
   "name": "python3"
  },
  "language_info": {
   "codemirror_mode": {
    "name": "ipython",
    "version": 3
   },
   "file_extension": ".py",
   "mimetype": "text/x-python",
   "name": "python",
   "nbconvert_exporter": "python",
   "pygments_lexer": "ipython3",
   "version": "3.7.12"
  }
 },
 "nbformat": 4,
 "nbformat_minor": 5
}
